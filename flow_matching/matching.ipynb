{
 "cells": [
  {
   "cell_type": "code",
   "execution_count": null,
   "id": "43a83bbc-5515-45f1-bb15-de7348c3bd47",
   "metadata": {},
   "outputs": [],
   "source": [
    "import torch\n",
    "from util import Gaussian, GaussianMixture, get_device, set_all_seeds\n",
    "from util import hist1d_sampleable, plot_path, plot_path_animation\n",
    "import matplotlib.pyplot as plt\n",
    "device = get_device()\n",
    "set_all_seeds(42)"
   ]
  },
  {
   "cell_type": "code",
   "execution_count": null,
   "id": "9d9a9322-d7b9-4ff5-9efa-9d5a6166c498",
   "metadata": {},
   "outputs": [],
   "source": [
    "# Constants for the duration of our use of Gaussian conditional probability paths, to avoid polluting the namespace...\n",
    "PARAMS = {\n",
    "    \"scale\": 15.0,\n",
    "    \"target_scale\": 8.0,\n",
    "    \"target_std\": 1,\n",
    "    \"sample_num\": 8,\n",
    "    \"mode_num\": 2,\n",
    "    \"aggregate\": False,\n",
    "    \"path_timesteps\": 200,\n",
    "    \"sde_sigma\": 2,\n",
    "    \"no_border\": True,\n",
    "}\n",
    "\n",
    "p_data = GaussianMixture.symmetric_1D(nmodes=PARAMS[\"mode_num\"], std=PARAMS[\"target_std\"], scale=PARAMS[\"target_scale\"]).to(device)"
   ]
  },
  {
   "cell_type": "code",
   "execution_count": null,
   "id": "1ea72654-b2da-46c2-ba29-c850e192a7f8",
   "metadata": {},
   "outputs": [],
   "source": [
    "hist1d_sampleable(p_data, 1000)"
   ]
  },
  {
   "cell_type": "code",
   "execution_count": null,
   "id": "82c2c9f9-a2e7-43d0-ae86-b3ffa007f1c3",
   "metadata": {},
   "outputs": [],
   "source": [
    "from flow import GaussianConditionalProbabilityPath, LinearAlpha, SquareRootBeta"
   ]
  },
  {
   "cell_type": "code",
   "execution_count": null,
   "id": "59158da3-b986-4b3d-a548-24b76d5aecfa",
   "metadata": {},
   "outputs": [],
   "source": [
    "p_simple = Gaussian.isotropic(p_data.dim, 4.0)\n",
    "path = GaussianConditionalProbabilityPath(\n",
    "    p_data = p_data,\n",
    "    alpha = LinearAlpha(),\n",
    "    beta = SquareRootBeta(),\n",
    "    p_simple = p_simple\n",
    ").to(device)"
   ]
  },
  {
   "cell_type": "code",
   "execution_count": null,
   "id": "d95c4aaa-98df-46cb-9e29-b79619a9422e",
   "metadata": {},
   "outputs": [],
   "source": [
    "if PARAMS[\"aggregate\"]:\n",
    "    z = path.sample_conditioning_variable(PARAMS[\"mode_num\"])\n",
    "    z = z.repeat(PARAMS[\"sample_num\"] // PARAMS[\"mode_num\"], 1)\n",
    "else:\n",
    "    z = path.sample_conditioning_variable(PARAMS[\"sample_num\"])\n",
    "ts = torch.arange(PARAMS[\"path_timesteps\"]).to(device) / (float(PARAMS[\"path_timesteps\"])-1.)"
   ]
  },
  {
   "cell_type": "code",
   "execution_count": null,
   "id": "1b16b47e-f199-453c-9e47-6318c424a41e",
   "metadata": {},
   "outputs": [],
   "source": [
    "xts = []\n",
    "for t in ts:\n",
    "    t = t.repeat(PARAMS[\"sample_num\"]).unsqueeze(1)\n",
    "    xts.append(path.sample_conditional_path(z, t))\n",
    "xts = torch.stack(xts) # (timestep, path_num, dim)"
   ]
  },
  {
   "cell_type": "code",
   "execution_count": null,
   "id": "e9fbb847-959b-471f-8fa9-544991638f00",
   "metadata": {},
   "outputs": [],
   "source": [
    "fig, ax = plt.subplots(figsize=(10, 5))\n",
    "\n",
    "plot_path(xts, ts, ax)\n",
    "ax.set_xlim(0, 1)\n",
    "ax.set_ylim(-PARAMS[\"target_scale\"]*1.5, PARAMS[\"target_scale\"]*1.5)\n",
    "ax.set_xlabel('Time')\n",
    "ax.set_title('Probability Paths Over Timesteps')\n",
    "ax.legend()\n",
    "ax.grid(True)\n",
    "\n",
    "plt.show()"
   ]
  },
  {
   "cell_type": "code",
   "execution_count": null,
   "id": "0870a176-a8be-4160-9e4b-ab36b1e25c18",
   "metadata": {},
   "outputs": [],
   "source": [
    "xts[0].shape"
   ]
  },
  {
   "cell_type": "code",
   "execution_count": null,
   "id": "f733b265-62ba-4424-ad79-08a1ee723560",
   "metadata": {},
   "outputs": [],
   "source": [
    "from flow import ConditionalVectorFieldODE, ConditionalVectorFieldSDE\n",
    "from flow import EulerSimulator, EulerMaruyamaSimulator\n",
    "from einops import rearrange\n",
    "ode = ConditionalVectorFieldODE(path, z)\n",
    "simulator = EulerSimulator(ode)"
   ]
  },
  {
   "cell_type": "code",
   "execution_count": null,
   "id": "4e588834-ae45-4fe1-97a6-fab08d6d7473",
   "metadata": {},
   "outputs": [],
   "source": [
    "x0 = path.p_simple.sample(PARAMS[\"sample_num\"]) # (num_samples, dim)\n",
    "ts = torch.linspace(0.0, 1.0, PARAMS[\"path_timesteps\"]).view(1,-1,1).expand(PARAMS[\"sample_num\"],-1,1).to(device) # (num_samples, nts, 1)\n",
    "xts = simulator.simulate_with_trajectory(x0, ts) # (bs, nts, dim)\n",
    "xts = rearrange(xts, 'b t d -> t b d')"
   ]
  },
  {
   "cell_type": "code",
   "execution_count": null,
   "id": "7f50d91d-7cae-40ba-9802-6d87e855c1d7",
   "metadata": {},
   "outputs": [],
   "source": [
    "fig, ax = plt.subplots(figsize=(10, 5))\n",
    "\n",
    "plot_path(xts, ts[0], ax)\n",
    "ax.set_xlim(0, 1)\n",
    "ax.set_ylim(-PARAMS[\"target_scale\"]*1.5, PARAMS[\"target_scale\"]*1.5)\n",
    "ax.set_xlabel('Time')\n",
    "ax.set_title('ODE Vector Field Trajectory')\n",
    "#ax.legend()\n",
    "ax.grid(True)\n",
    "\n",
    "plt.show()"
   ]
  },
  {
   "cell_type": "code",
   "execution_count": null,
   "id": "0152500d-e687-4f4e-98e6-9a04cdda77b8",
   "metadata": {},
   "outputs": [],
   "source": [
    "sde = ConditionalVectorFieldSDE(path, z, PARAMS[\"sde_sigma\"])\n",
    "simulator = EulerMaruyamaSimulator(sde)\n",
    "x0 = path.p_simple.sample(PARAMS[\"sample_num\"]) # (num_samples, dim)\n",
    "ts = torch.linspace(0.0, 1.0, PARAMS[\"path_timesteps\"]).view(1,-1,1).expand(PARAMS[\"sample_num\"],-1,1).to(device) # (num_samples, nts, 1)\n",
    "xts = simulator.simulate_with_trajectory(x0, ts) # (bs, nts, dim)\n",
    "xts = rearrange(xts, 'b t d -> t b d')"
   ]
  },
  {
   "cell_type": "code",
   "execution_count": null,
   "id": "2fefe8df-f795-4c15-b64c-025a89eeaa4b",
   "metadata": {},
   "outputs": [],
   "source": [
    "fig, ax = plt.subplots(figsize=(10, 5))\n",
    "\n",
    "plot_path(xts, ts[0], ax)\n",
    "ax.set_xlim(0, 1)\n",
    "ax.set_ylim(-PARAMS[\"target_scale\"]*1.5, PARAMS[\"target_scale\"]*1.5)\n",
    "ax.set_xlabel('Time')\n",
    "ax.set_title('SDE Vector Field Trajectory')\n",
    "#ax.legend()\n",
    "ax.grid(True)\n",
    "\n",
    "plt.show()"
   ]
  },
  {
   "cell_type": "code",
   "execution_count": null,
   "id": "e36eeed5-0b28-4110-9e9d-038829859d7b",
   "metadata": {},
   "outputs": [],
   "source": [
    "from IPython.display import HTML #\n",
    "fig, ax = plt.subplots(figsize=(10, 5))\n",
    "\n",
    "anim = plot_path_animation(xts, ts[0], fig, ax)\n",
    "\n",
    "ax.set_xlim(0, 1)\n",
    "ax.set_ylim(-PARAMS[\"target_scale\"]*1.5, PARAMS[\"target_scale\"]*1.5)\n",
    "ax.set_xlabel('Time')\n",
    "ax.set_title('SDE Vector Field Trajectory')\n",
    "#ax.legend()\n",
    "ax.grid(True)\n",
    "\n",
    "plt.close() # Close the plot to prevent it from showing as a static image\n",
    "HTML(anim.to_jshtml())"
   ]
  },
  {
   "cell_type": "code",
   "execution_count": null,
   "id": "2ebda9fe-e9a4-4205-9d02-9e264e61c9f4",
   "metadata": {},
   "outputs": [],
   "source": [
    "heat_samples_num = 100000\n",
    "heat_x0 = path.p_simple.sample(heat_samples_num) # (num_samples, dim)\n",
    "heat_z = path.sample_conditioning_variable(heat_samples_num)\n",
    "heat_sde = ConditionalVectorFieldSDE(path, heat_z, PARAMS[\"sde_sigma\"])\n",
    "heat_simulator = EulerMaruyamaSimulator(heat_sde)\n",
    "heat_ts = torch.linspace(0.0, 1.0, PARAMS[\"path_timesteps\"]).view(1,-1,1).expand(heat_samples_num,-1,1).to(device)\n",
    "heat_xts = heat_simulator.simulate_with_trajectory(heat_x0, heat_ts) # (bs, nts, dim)\n",
    "heat_xts = rearrange(heat_xts, 'b t d -> t b d')"
   ]
  },
  {
   "cell_type": "code",
   "execution_count": null,
   "id": "b2b8b915-5836-45f0-8060-fcff9a7d2fe0",
   "metadata": {},
   "outputs": [],
   "source": [
    "from util import plot_heatmap\n",
    "fig, ax = plt.subplots(figsize=(10, 5))\n",
    "\n",
    "\n",
    "heat_map, H_normalized = plot_heatmap(heat_xts, heat_ts, ax)\n",
    "ax.set_xlim(0, 1)\n",
    "ax.set_ylim(-PARAMS[\"target_scale\"]*1.5, PARAMS[\"target_scale\"]*1.5)\n",
    "ax.set_xlabel('Time')\n",
    "ax.set_title('SDE Vector Field Trajectory')\n",
    "#ax.legend()\n",
    "ax.grid(False)\n",
    "\n",
    "plt.show()"
   ]
  },
  {
   "cell_type": "code",
   "execution_count": null,
   "id": "3219d66f-27d9-4cc0-900b-f9da77af9509",
   "metadata": {},
   "outputs": [],
   "source": [
    "anim = plot_path_animation(xts, ts[0], fig, ax)\n",
    "\n",
    "ax.set_xlim(0, 1)\n",
    "ax.set_ylim(-PARAMS[\"target_scale\"]*1.5, PARAMS[\"target_scale\"]*1.5)\n",
    "if PARAMS[\"no_border\"]:\n",
    "    fig.subplots_adjust(\n",
    "        left=0.01,    # Small buffer on the left\n",
    "        right=0.99,   # Small buffer on the right\n",
    "        bottom=0.01,  # Small buffer on the bottom\n",
    "        top=0.99,     # Small buffer on the top\n",
    "        hspace=0.0,\n",
    "        wspace=0.0\n",
    "    )\n",
    "    # 1. Remove the axis ticks and labels (the numbers and tick marks)\n",
    "    ax.set_xticks([])\n",
    "    ax.set_yticks([])\n",
    "    \n",
    "    # 2. Remove the surrounding box/spines (the border)\n",
    "    # Spines are the lines connecting the x and y axes.\n",
    "    for spine in ax.spines.values():\n",
    "        spine.set_visible(False)\n",
    "    \n",
    "    # 3. Optional: Remove the axis labels if you previously set them\n",
    "    # You may have already removed the visual ticks, but this ensures labels are gone.\n",
    "    ax.set_xlabel('')\n",
    "    ax.set_ylabel('')\n",
    "    ax.set_title('')\n",
    "else:\n",
    "    ax.set_xlabel('Time')\n",
    "    ax.set_title('SDE Vector Field Trajectory')\n",
    "    ax.legend()\n",
    "\n",
    "ax.grid(False) \n",
    "plt.close() # Close the plot to prevent it from showing as a static image\n",
    "HTML(anim.to_jshtml())"
   ]
  },
  {
   "cell_type": "code",
   "execution_count": null,
   "id": "f57513e3-769e-4040-b56a-5de0187242f7",
   "metadata": {},
   "outputs": [],
   "source": [
    "from matplotlib.animation import FFMpegWriter\n",
    "import os\n",
    "\n",
    "writer = FFMpegWriter(fps=40, bitrate=1800) \n",
    "# Note: fps should match 1000/interval (1000/50 = 20)\n",
    "\n",
    "# The save method will automatically use the writer\n",
    "output_filename = os.path.join(\"..\", \"output\", \"probability_paths_animation.mp4\")\n",
    "print(f\"Saving animation to {output_filename}...\")\n",
    "\n",
    "# Use 'anim.save'\n",
    "anim.save(output_filename, writer=writer) \n",
    "\n",
    "print(\"Save complete!\")"
   ]
  }
 ],
 "metadata": {
  "kernelspec": {
   "display_name": "Python 3 (ipykernel)",
   "language": "python",
   "name": "python3"
  },
  "language_info": {
   "codemirror_mode": {
    "name": "ipython",
    "version": 3
   },
   "file_extension": ".py",
   "mimetype": "text/x-python",
   "name": "python",
   "nbconvert_exporter": "python",
   "pygments_lexer": "ipython3",
   "version": "3.12.9"
  },
  "widgets": {
   "application/vnd.jupyter.widget-state+json": {
    "state": {},
    "version_major": 2,
    "version_minor": 0
   }
  }
 },
 "nbformat": 4,
 "nbformat_minor": 5
}
